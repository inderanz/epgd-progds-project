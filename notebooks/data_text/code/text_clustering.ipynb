{
 "cells": [
  {
   "cell_type": "code",
   "execution_count": 4,
   "metadata": {},
   "outputs": [
    {
     "name": "stdout",
     "output_type": "stream",
     "text": [
      "🔁 Loading text data...\n",
      "✍️ Extracting TF-IDF features...\n",
      "📉 Reducing dimensions with PCA...\n",
      "🔍 Clustering with KMeans...\n",
      "✅ Silhouette Score: 0.0495\n",
      "💾 Saving results...\n",
      "🎉 Done! Output saved to: results/text_stage1_results.pkl\n"
     ]
    }
   ],
   "source": [
    "\"\"\"\n",
    "Stage 1: Clustering for Text Data\n",
    "EPGD Programming for Data Science – IITM\n",
    "Author: <your name>\n",
    "\"\"\"\n",
    "\n",
    "import pickle\n",
    "from sklearn.feature_extraction.text import TfidfVectorizer\n",
    "from sklearn.decomposition import PCA\n",
    "from sklearn.cluster import KMeans\n",
    "from sklearn.metrics import silhouette_score\n",
    "import os\n",
    "\n",
    "def load_text_data(input_path):\n",
    "    \"\"\"Load raw text data from pickle file.\"\"\"\n",
    "    with open(input_path, \"rb\") as f:\n",
    "        return pickle.load(f)\n",
    "\n",
    "def extract_features(text_data, max_features=1000):\n",
    "    \"\"\"Convert raw text to TF-IDF features.\"\"\"\n",
    "    vectorizer = TfidfVectorizer(stop_words=\"english\", max_features=max_features)\n",
    "    return vectorizer.fit_transform(text_data)\n",
    "\n",
    "def reduce_dimensionality(X_tfidf, n_components=50):\n",
    "    \"\"\"Apply PCA to reduce dimensions.\"\"\"\n",
    "    pca = PCA(n_components=n_components, random_state=42)\n",
    "    return pca.fit_transform(X_tfidf.toarray())\n",
    "\n",
    "def cluster_data(X_pca, n_clusters=5):\n",
    "    \"\"\"Apply KMeans clustering.\"\"\"\n",
    "    model = KMeans(n_clusters=n_clusters, random_state=42)\n",
    "    labels = model.fit_predict(X_pca)\n",
    "    score = silhouette_score(X_pca, labels)\n",
    "    return labels, score\n",
    "\n",
    "def save_results(X_pca, labels, score, output_path):\n",
    "    \"\"\"Save PCA features, labels, and score to pickle.\"\"\"\n",
    "    result = {\n",
    "        \"pca_features\": X_pca,\n",
    "        \"cluster_labels\": labels,\n",
    "        \"silhouette_score\": score\n",
    "    }\n",
    "    with open(output_path, \"wb\") as f:\n",
    "        pickle.dump(result, f)\n",
    "\n",
    "def main():\n",
    "    input_path = \"../../../data/train_data_text.pkl\"\n",
    "    output_path = \"results/text_stage1_results.pkl\"\n",
    "    \n",
    "    print(\"🔁 Loading text data...\")\n",
    "    text_data = load_text_data(input_path)\n",
    "    \n",
    "    print(\"✍️ Extracting TF-IDF features...\")\n",
    "    X_tfidf = extract_features(text_data)\n",
    "\n",
    "    print(\"📉 Reducing dimensions with PCA...\")\n",
    "    X_pca = reduce_dimensionality(X_tfidf)\n",
    "\n",
    "    print(\"🔍 Clustering with KMeans...\")\n",
    "    labels, score = cluster_data(X_pca)\n",
    "\n",
    "    print(f\"✅ Silhouette Score: {score:.4f}\")\n",
    "\n",
    "    print(\"💾 Saving results...\")\n",
    "    os.makedirs(\"results\", exist_ok=True)\n",
    "    save_results(X_pca, labels, score, output_path)\n",
    "\n",
    "    print(f\"🎉 Done! Output saved to: {output_path}\")\n",
    "\n",
    "if __name__ == \"__main__\":\n",
    "    main()\n"
   ]
  }
 ],
 "metadata": {
  "kernelspec": {
   "display_name": "Python 3",
   "language": "python",
   "name": "python3"
  },
  "language_info": {
   "codemirror_mode": {
    "name": "ipython",
    "version": 3
   },
   "file_extension": ".py",
   "mimetype": "text/x-python",
   "name": "python",
   "nbconvert_exporter": "python",
   "pygments_lexer": "ipython3",
   "version": "3.11.6"
  }
 },
 "nbformat": 4,
 "nbformat_minor": 2
}
